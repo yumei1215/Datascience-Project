{
 "cells": [
  {
   "cell_type": "markdown",
   "metadata": {},
   "source": [
    "# Project Proposal (Diabete Prediction)\n",
    "APMA 4990 Introduction to Data Science Industry\n",
    "By Yumei Chen, Rui Luo, Hanze Hu "
   ]
  },
  {
   "cell_type": "code",
   "execution_count": 6,
   "metadata": {
    "scrolled": false
   },
   "outputs": [
    {
     "data": {
      "text/html": [
       "<img src=\"https://aholdencirm.files.wordpress.com/2015/11/diabetes-sugarcubes.jpg\"/>"
      ],
      "text/plain": [
       "<IPython.core.display.Image object>"
      ]
     },
     "execution_count": 6,
     "metadata": {},
     "output_type": "execute_result"
    }
   ],
   "source": [
    "from IPython.display import Image\n",
    "from IPython.core.display import HTML \n",
    "Image(url= \"https://aholdencirm.files.wordpress.com/2015/11/diabetes-sugarcubes.jpg\")"
   ]
  },
  {
   "cell_type": "markdown",
   "metadata": {},
   "source": [
    "## Tools will be used:\n",
    "Python, Jupyter Notebook"
   ]
  },
  {
   "cell_type": "markdown",
   "metadata": {},
   "source": [
    "## Description:\n",
    "Diabete has become widespread in the United States ans worldwide. In 2016, 9.5% of adults aged 18 years and older had diabetes. In 2016, diabetes was the direct cause of 1.8 million deaths and in 2017 high blood glucose was the cause of another 2.6 million deaths. Early diagnosis of diabete significantly reduces the global health care cost and substantialy improves patients' living conditions. Glucose level, insulin fluctuation, mass mass index, pregnancy, age, blood pressure and skin thickness are all valuable implications that have potential to reflect patients diabetic conditions. Thus, correctly prediecting the status of diabetic patient can prolong patients' lives, reduce medical costs via early preparation of treatments, diet and physical exercises. Therefore, this project will build a supervised learning model that predicts diabete from historical pima female data and information. Specificly, the objective of the dataset is to diagnostically predict whether or not a patient has diabetes, based on certain diagnostic measurements included in the dataset. Several constraints were placed on the selection of these instances from a larger database. In particular, all patients here are females at least 21 years old of Pima Indian heritage."
   ]
  },
  {
   "cell_type": "markdown",
   "metadata": {},
   "source": [
    "## Audience:\n",
    "Anyone who concerns themselves have diabetes. "
   ]
  },
  {
   "cell_type": "markdown",
   "metadata": {},
   "source": [
    "## Algorithms:\n",
    "???????"
   ]
  },
  {
   "cell_type": "markdown",
   "metadata": {},
   "source": [
    "## Data Resourse:\n",
    "https://archive.ics.uci.edu/ml/datasets/diabetes (UC Irvine, medical-related machine learning repository)\n",
    "https://gis.cdc.gov/grasp/diabetes/DiabetesAtlas.html (CDC, national diabetic data)\n",
    "https://www.kaggle.com/uciml/pima-indians-diabetes-database/data (UC Irvine, Pima Indian diabetes data base)"
   ]
  },
  {
   "cell_type": "markdown",
   "metadata": {},
   "source": [
    "## Reference:\n"
   ]
  }
 ],
 "metadata": {
  "kernelspec": {
   "display_name": "Python 3",
   "language": "python",
   "name": "python3"
  },
  "language_info": {
   "codemirror_mode": {
    "name": "ipython",
    "version": 3
   },
   "file_extension": ".py",
   "mimetype": "text/x-python",
   "name": "python",
   "nbconvert_exporter": "python",
   "pygments_lexer": "ipython3",
   "version": "3.6.3"
  }
 },
 "nbformat": 4,
 "nbformat_minor": 2
}
